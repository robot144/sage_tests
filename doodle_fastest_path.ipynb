{
 "cells": [
  {
   "cell_type": "markdown",
   "metadata": {},
   "source": [
    "# Shortest path and line integrals\n",
    "\n",
    "Let $(x(t),y(t))$ be a path from $a=(x_0,y_0)$ to $b=(x_T,y_T)$, ie $(x(0),y(0))=(x_0,y_0)$ and $(x(T),y(T))=(x_T,y_T)$, then we want to find the fastest path, or the minimum for $T$.\n",
    "\n",
    "First consider a constant velocity and rewrite $T=\\int 1/|v|ds$, where the line integral follows a path from $a$ to $b$. It is convenient to start with a path with a parameter running from $0$ to $Q$ with coordinates along the path $x(q),y(q)$. The line integral can now be written as:\n",
    "\n",
    "$T=\\int_0^Q 1/v |ds/dq| dq$."
   ]
  },
  {
   "cell_type": "markdown",
   "metadata": {},
   "source": [
    "## Computation of the gradient"
   ]
  },
  {
   "cell_type": "markdown",
   "metadata": {},
   "source": [
    "With the aim to compute the gradient of $T$ with respect to pertubations of the path, let's perturb the path with a small change $\\epsilon(\\delta x(q), \\delta y(q)$. A nice trick is to start with the derivative w.r.t. $\\epsilon$.\n",
    "\n",
    "\n",
    "$dT/d\\epsilon = \\int_0^{\\pi} \\frac{dx/dq d\\delta x/dq + dy/dq d\\delta y/dq}{\\sqrt{(dx/dq)^2+(dy/dq)^2}} dq$\n",
    "\n",
    "Next apply integration by parts:\n",
    "\n",
    "$dT/d\\epsilon = \\int_0^{\\pi} d\\delta x/dq \\frac{dx/dq}{\\sqrt{(dx/dq)^2+(dy/dq)^2}} dq + \\int_0^{\\pi} d\\delta y/dq \\frac{dy/dq }{\\sqrt{(dx/dq)^2+(dy/dq)^2}} dq$\n",
    "\n",
    "$dT/d\\epsilon = - \\int_0^{\\pi} \\delta x \\frac{d}{dq} \\left( \\frac{dx/dq}{\\sqrt{(dx/dq)^2+(dy/dq)^2}} \\right) dq - \\int_0^{\\pi} \\delta y \\frac{d}{dq} \\left( \\frac{dy/dq}{\\sqrt{(dx/dq)^2+(dy/dq)^2}} \\right) dq$\n",
    "$= - \\int_0^{\\pi} \\frac{d e_r}{dq}\\cdot \\delta r {dq}$\n",
    "\n",
    "with $e_r = \\left( \\frac{dx/dq}{|dr/dq|}, \\frac{dy/dq}{|dr/dq|} \\right) = \\left( \\frac{dx/dq}{|r'|}, \\frac{dy/dq}{|r'|} \\right)$\n",
    "\n",
    "$d e_r/dq = \\frac{d}{dq} \\left( \\frac{dx/dq}{|dr/dq|}, \\frac{dy/dq}{|dr/dq|} \\right)$\n",
    "$= \\left( \\frac{d^2x/dq^2 }{|r'|} -  \\frac{dx/dq ( dx/dq d^2x/dq^2 +dy/dq d^2y/dq^2) }{|r'|^3} , \\frac{d^2y/dq^2 }{|r'|} -  \\frac{dy/dq ( dx/dq d^2x/dq^2 +dy/dq d^2y/dq^2) }{|r'|^3} \\right)$\n",
    "\n",
    "$<d e_r/dq, e_r> = \\left( \\frac{d^2x/dq^2 }{|r'|} -  \\frac{dx/dq ( dx/dq d^2x/dq^2 +dy/dq d^2y/dq^2) }{|r'|^3} \\right) \\frac{dx/dq}{|r'|} + \\left( \\frac{d^2y/dq^2 }{|r'|} -  \\frac{dy/dq ( dx/dq d^2x/dq^2 +dy/dq d^2y/dq^2) }{|r'|^3} \\right) \\frac{dx/dq}{|r'|}$\n",
    "\n",
    "$= \\left( \\frac{d^2x/dq^2 dx/dq}{|r'|^2} -  \\frac{(dx/dq)^2 ( dx/dq d^2x/dq^2 +dy/dq d^2y/dq^2) }{|r'|^4} \\right) + \\left( \\frac{d^2y/dq^2 dy/dq}{|r'|^2} -  \\frac{(dy/dq)^2 ( dx/dq d^2x/dq^2 +dy/dq d^2y/dq^2) }{|r'|^4} \\right)$\n",
    "\n",
    "$= \\left( \\frac{d^2x/dq^2 dx/dq + d^2y/dq^2 dy/dq}{|r'|^2}  -  \\frac{ ( dx/dq d^2x/dq^2 +dy/dq d^2y/dq^2) }{|r'|^2}  \\right) =0$\n",
    "\n",
    "In the direction perpendicular to this we have:\n",
    "\n",
    "with $e_t = \\left( -\\frac{dy/dq}{|r'|}, \\frac{dx/dq}{|r'|} \\right)$\n",
    "\n",
    "$<d e_r/dq, e_t> = - \\left( \\frac{d^2x/dq^2 }{|r'|} -  \\frac{dx/dq ( dx/dq d^2x/dq^2 +dy/dq d^2y/dq^2) }{|r'|^3} \\right) \\frac{dy/dq}{|r'|} + \\left( \\frac{d^2y/dq^2 }{|r'|} -  \\frac{dy/dq ( dx/dq d^2x/dq^2 +dy/dq d^2y/dq^2) }{|r'|^3} \\right) \\frac{dx/dq}{|r'|}$\n",
    "\n",
    "$= - \\left( \\frac{d^2x/dq^2 dy/dq}{|r'|^2} -  \\frac{dx/dq ( dx/dq dy/dq d^2x/dq^2 +dy/dq d^2y/dq^2) }{|r'|^4} \\right)  + \\left( \\frac{d^2y/dq^2 dx/dq}{|r'|^2} -  \\frac{dy/dq dx/dq( dx/dq d^2x/dq^2 +dy/dq d^2y/dq^2) }{|r'|^4} \\right) $\n",
    "\n",
    "$= \\left(  \\frac{-d^2x/dq^2 dy/dq + d^2y/dq^2 dx/dq}{|r'|^2}  \\right) $\n",
    "\n",
    "Finaly, we have:\n",
    "\n",
    "$dT/d\\epsilon = \\int_0^{\\pi} <d e_r/dq, (\\delta x, \\delta y) >  dq$\n",
    "\n",
    "which makes $d e_r/dq$ the gradient here."
   ]
  },
  {
   "cell_type": "code",
   "execution_count": 1,
   "metadata": {},
   "outputs": [
    {
     "data": {
      "text/html": [
       "<html><script type=\"math/tex; mode=display\">\\newcommand{\\Bold}[1]{\\mathbf{#1}}-\\frac{{\\left({\\rm rx}\\left(q\\right) \\frac{\\partial}{\\partial q}{\\rm rx}\\left(q\\right) + {\\rm ry}\\left(q\\right) \\frac{\\partial}{\\partial q}{\\rm ry}\\left(q\\right)\\right)} {\\rm rx}\\left(q\\right)}{{\\left({\\rm rx}\\left(q\\right)^{2} + {\\rm ry}\\left(q\\right)^{2}\\right)}^{\\frac{3}{2}}} + \\frac{\\frac{\\partial}{\\partial q}{\\rm rx}\\left(q\\right)}{\\sqrt{{\\rm rx}\\left(q\\right)^{2} + {\\rm ry}\\left(q\\right)^{2}}}</script></html>"
      ],
      "text/latex": [
       "$$\\newcommand{\\Bold}[1]{\\mathbf{#1}}-\\frac{{\\left({\\rm rx}\\left(q\\right) \\frac{\\partial}{\\partial q}{\\rm rx}\\left(q\\right) + {\\rm ry}\\left(q\\right) \\frac{\\partial}{\\partial q}{\\rm ry}\\left(q\\right)\\right)} {\\rm rx}\\left(q\\right)}{{\\left({\\rm rx}\\left(q\\right)^{2} + {\\rm ry}\\left(q\\right)^{2}\\right)}^{\\frac{3}{2}}} + \\frac{\\frac{\\partial}{\\partial q}{\\rm rx}\\left(q\\right)}{\\sqrt{{\\rm rx}\\left(q\\right)^{2} + {\\rm ry}\\left(q\\right)^{2}}}$$"
      ],
      "text/plain": [
       "-(rx(q)*diff(rx(q), q) + ry(q)*diff(ry(q), q))*rx(q)/(rx(q)^2 + ry(q)^2)^(3/2) + diff(rx(q), q)/sqrt(rx(q)^2 + ry(q)^2)"
      ]
     },
     "metadata": {},
     "output_type": "display_data"
    },
    {
     "data": {
      "text/html": [
       "<html><script type=\"math/tex; mode=display\">\\newcommand{\\Bold}[1]{\\mathbf{#1}}-\\frac{{\\left({\\rm rx}\\left(q\\right) \\frac{\\partial}{\\partial q}{\\rm rx}\\left(q\\right) + {\\rm ry}\\left(q\\right) \\frac{\\partial}{\\partial q}{\\rm ry}\\left(q\\right)\\right)} {\\rm ry}\\left(q\\right)}{{\\left({\\rm rx}\\left(q\\right)^{2} + {\\rm ry}\\left(q\\right)^{2}\\right)}^{\\frac{3}{2}}} + \\frac{\\frac{\\partial}{\\partial q}{\\rm ry}\\left(q\\right)}{\\sqrt{{\\rm rx}\\left(q\\right)^{2} + {\\rm ry}\\left(q\\right)^{2}}}</script></html>"
      ],
      "text/latex": [
       "$$\\newcommand{\\Bold}[1]{\\mathbf{#1}}-\\frac{{\\left({\\rm rx}\\left(q\\right) \\frac{\\partial}{\\partial q}{\\rm rx}\\left(q\\right) + {\\rm ry}\\left(q\\right) \\frac{\\partial}{\\partial q}{\\rm ry}\\left(q\\right)\\right)} {\\rm ry}\\left(q\\right)}{{\\left({\\rm rx}\\left(q\\right)^{2} + {\\rm ry}\\left(q\\right)^{2}\\right)}^{\\frac{3}{2}}} + \\frac{\\frac{\\partial}{\\partial q}{\\rm ry}\\left(q\\right)}{\\sqrt{{\\rm rx}\\left(q\\right)^{2} + {\\rm ry}\\left(q\\right)^{2}}}$$"
      ],
      "text/plain": [
       "-(rx(q)*diff(rx(q), q) + ry(q)*diff(ry(q), q))*ry(q)/(rx(q)^2 + ry(q)^2)^(3/2) + diff(ry(q), q)/sqrt(rx(q)^2 + ry(q)^2)"
      ]
     },
     "metadata": {},
     "output_type": "display_data"
    },
    {
     "name": "stdout",
     "output_type": "stream",
     "text": [
      "gradient in direction of e_r\n"
     ]
    },
    {
     "data": {
      "text/html": [
       "<html><script type=\"math/tex; mode=display\">\\newcommand{\\Bold}[1]{\\mathbf{#1}}0</script></html>"
      ],
      "text/latex": [
       "$$\\newcommand{\\Bold}[1]{\\mathbf{#1}}0$$"
      ],
      "text/plain": [
       "0"
      ]
     },
     "metadata": {},
     "output_type": "display_data"
    },
    {
     "name": "stdout",
     "output_type": "stream",
     "text": [
      "gradient in direction orthogonal to e_r\n"
     ]
    },
    {
     "data": {
      "text/html": [
       "<html><script type=\"math/tex; mode=display\">\\newcommand{\\Bold}[1]{\\mathbf{#1}}-\\frac{{\\rm ry}\\left(q\\right) \\frac{\\partial}{\\partial q}{\\rm rx}\\left(q\\right) - {\\rm rx}\\left(q\\right) \\frac{\\partial}{\\partial q}{\\rm ry}\\left(q\\right)}{{\\rm rx}\\left(q\\right)^{2} + {\\rm ry}\\left(q\\right)^{2}}</script></html>"
      ],
      "text/latex": [
       "$$\\newcommand{\\Bold}[1]{\\mathbf{#1}}-\\frac{{\\rm ry}\\left(q\\right) \\frac{\\partial}{\\partial q}{\\rm rx}\\left(q\\right) - {\\rm rx}\\left(q\\right) \\frac{\\partial}{\\partial q}{\\rm ry}\\left(q\\right)}{{\\rm rx}\\left(q\\right)^{2} + {\\rm ry}\\left(q\\right)^{2}}$$"
      ],
      "text/plain": [
       "-(ry(q)*diff(rx(q), q) - rx(q)*diff(ry(q), q))/(rx(q)^2 + ry(q)^2)"
      ]
     },
     "metadata": {},
     "output_type": "display_data"
    }
   ],
   "source": [
    "# compute the derivatives as a check with sage\n",
    "q=var('q')\n",
    "rx=function('rx')(q)\n",
    "ry=function('ry')(q)\n",
    "e_r_x=rx/sqrt(rx^2+ry^2)\n",
    "e_r_y=ry/sqrt(rx^2+ry^2)\n",
    "e_r = [e_r_x, e_r_y ]\n",
    "derx_dq=diff(e_r_x,q)\n",
    "dery_dq=diff(e_r_y,q)\n",
    "show(derx_dq)\n",
    "show(dery_dq)\n",
    "print(\"gradient in direction of e_r\")\n",
    "der_dq_er = derx_dq*e_r_x+dery_dq*e_r_y\n",
    "show(der_dq_er.full_simplify())\n",
    "print(\"gradient in direction orthogonal to e_r\")\n",
    "der_dq_et = -derx_dq*e_r_y+dery_dq*e_r_x\n",
    "show(der_dq_et.full_simplify())"
   ]
  },
  {
   "cell_type": "markdown",
   "metadata": {},
   "source": [
    "## Example\n",
    "\n",
    "Start with the initial path $(x(q),y(q)=(cos(q),sin(q))$ for $q \\in [0,Q]$. With $v=1$ this results in\n",
    "\n",
    "$T=\\int_0^{\\pi} \\sqrt{(dx/dq)^2+(dy/dq)^2} dq = \\int_0^{\\pi} \\sqrt{(sin(q))^2+(cos(x))^2} dq = \\pi$\n",
    "\n",
    "$e_r = \\left( \\frac{dx/dq}{|r'|}, \\frac{dy/dq}{|r'|} \\right)$\n",
    "\n",
    "$dx/dq,dy/dq = (-sin(q),cos(q))$ , $r'=1$ thus $e_r = (-sin(q),cos(q))$.\n",
    "\n",
    "$d e_r/dq = (-cos(q),-sin(q))$\n",
    "\n",
    "$dT/d\\epsilon = \\int_0^{\\pi} -cos(q) \\delta x -sin(q) \\delta y)  dq$"
   ]
  },
  {
   "cell_type": "code",
   "execution_count": 2,
   "metadata": {},
   "outputs": [
    {
     "data": {
      "image/png": "[encoded data removed]",
      "text/plain": [
       "Graphics object consisting of 2 graphics primitives"
      ]
     },
     "metadata": {},
     "output_type": "display_data"
    },
    {
     "name": "stdout",
     "output_type": "stream",
     "text": [
      "This perturbation is missing tapering near the start and end points.\n",
      "Clearly a straight line is the fastest route for this simple problem.\n"
     ]
    }
   ],
   "source": [
    "q=var('q')\n",
    "x(q) = cos(q)\n",
    "y(q) = sin(q)\n",
    "grad_x(q)=-cos(q)\n",
    "grad_y(q)=-sin(q)\n",
    "delta=0.1\n",
    "p1=parametric_plot((x(q),y(q)),(q,0,pi))\n",
    "p2=parametric_plot((x(q)+delta*grad_x(q),y(q)+delta*grad_y(q)),(q,0,pi))\n",
    "\n",
    "show(p1+p2)\n",
    "print(\"This perturbation is missing tapering near the start and end points.\")\n",
    "print(\"Clearly a straight line is the fastest route for this simple problem.\")"
   ]
  },
  {
   "cell_type": "code",
   "execution_count": 0,
   "metadata": {},
   "outputs": [],
   "source": []
  },
  {
   "cell_type": "code",
   "execution_count": 0,
   "metadata": {},
   "outputs": [],
   "source": []
  }
 ],
 "metadata": {
  "kernelspec": {
   "display_name": "SageMath 9.5",
   "language": "sage",
   "name": "sagemath"
  },
  "language_info": {
   "codemirror_mode": {
    "name": "ipython",
    "version": 3
   },
   "file_extension": ".py",
   "mimetype": "text/x-python",
   "name": "python",
   "nbconvert_exporter": "python",
   "pygments_lexer": "ipython3",
   "version": "3.11.2"
  }
 },
 "nbformat": 4,
 "nbformat_minor": 4
}
