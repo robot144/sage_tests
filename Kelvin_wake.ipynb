{
 "metadata": {
  "kernelspec": {
   "display_name": "SageMath",
   "language": "python",
   "name": "sagemath"
  },
  "language_info": {
   "codemirror_mode": {
    "name": "ipython",
    "version": 2
   },
   "file_extension": ".py",
   "mimetype": "text/x-python",
   "name": "python",
   "nbconvert_exporter": "python",
   "pygments_lexer": "ipython2",
   "version": "2.7.12+"
  }
 },
 "nbformat": 4,
 "nbformat_minor": 4,
 "cells": [
  {
   "metadata": {
    "collapsed": false
   },
   "cell_type": "markdown",
   "source": [
    "# Kelvin wave behind a ship\n",
    "\n",
    "This document considers the wave pattern behind a ship, also known a the Kelvin wake. This a well studied subject, but here I just play around with Sage and this topic as a test case. The starting point are the following equations:\n",
    "\n",
    "- $u_x + v_y +w_z = 0$\n",
    "- $u_t + u u_x + v u_y + w u_z + p_x/r = 0$\n",
    "- $v_t + u v_x + v v_y + w v_z + p_y/r = 0$\n",
    "- $u_t + u w_x + v w_y + w w_z + p_z/r + g = 0$\n",
    "\n",
    "And at the water surface ($z=h$), we have:\n",
    "\n",
    "- $h_t + u h_x + v h_y = w(z=h)$ kinematic condition\n",
    "- $p=p_0$ or $g h + p/r +u^2/2 + v^2/2 + w^2/2 = const$ dynamic condition, Bernoulli [Wikipedia Bernoulli](https://en.wikipedia.org/wiki/Bernoulli%27s_principle)\n",
    "\n",
    "Finally at the sea-bed (z=-D)\n",
    "\n",
    "- $w=0$ assuming a flat bed\n",
    "\n",
    " For small amplitude waves analytical solutions can be found [Wikipedia linear wave theory](https://en.wikipedia.org/wiki/Airy_wave_theory).\n",
    "\n",
    "- $h(x,y,t)=a \\cos(k x + l y - w t)$\n",
    "- $w^2 = g k \\tanh(k h)$\n",
    "\n",
    "\n",
    "\n",
    "\n",
    "Additional info:\n",
    "\n",
    "- [Wikipedia Stokes waves](https://en.wikipedia.org/wiki/Stokes_wave)"
   ]
  },
  {
   "metadata": {
    "collapsed": false
   },
   "cell_type": "markdown",
   "source": [
    "## Kelvin wake\n",
    "\n",
    "References:\n",
    "\n",
    "- [Wikipedia Kelvin wake](https://en.wikipedia.org/wiki/Wake_(physics))\n",
    "- [Wikiwaves Kelvin wake](https://wikiwaves.org/Ship_Kelvin_Wake)\n",
    "- [Wake at high froude numbers](https://www.pct.espci.fr/~elie/Publications/Kelvin_wake_pattern.pdf)"
   ]
  },
  {
   "metadata": {
    "collapsed": false
   },
   "cell_type": "code",
   "source": [
    ""
   ]
  }
 ]
}