{
 "cells": [
  {
   "cell_type": "code",
   "execution_count": 0,
   "metadata": {
    "collapsed": false
   },
   "outputs": [
   ],
   "source": [
   ]
  },
  {
   "cell_type": "markdown",
   "metadata": {
    "collapsed": false
   },
   "source": [
    "# Testing\n",
    "\n",
    "Here are some doodles with Sage. This first chunk is for some text, but formulas in latex style can also be included $\\pi/2$"
   ]
  },
  {
   "cell_type": "code",
   "execution_count": 0,
   "metadata": {
    "collapsed": false
   },
   "outputs": [
   ],
   "source": [
    "#what does this command do\n",
    "integral?"
   ]
  },
  {
   "cell_type": "code",
   "execution_count": 0,
   "metadata": {
    "collapsed": false
   },
   "outputs": [
   ],
   "source": [
    "x=var('x')\n",
    "p0(x)=1\n",
    "p1(x)=x\n",
    "q2(x)=x^2\n",
    "#Gramm-Schmidt type projection\n",
    "p2(x)=q2(x)-integral(q2(x)*p0(x),x,-1,1)/integral(p0(x)*p0(x),x,-1,1)*p0(x)\n",
    "p2"
   ]
  },
  {
   "cell_type": "code",
   "execution_count": 0,
   "metadata": {
    "collapsed": false
   },
   "outputs": [
   ],
   "source": [
    "pl0=plot(p0(x),x)\n",
    "pl1=plot(p1,x)\n",
    "pl2=plot(p2,x)\n",
    "pl=pl0+pl1+pl2\n",
    "show(pl)\n",
    "pl.save('plot.png')"
   ]
  },
  {
   "cell_type": "code",
   "execution_count": 0,
   "metadata": {
    "collapsed": false
   },
   "outputs": [
   ],
   "source": [
    "latex(p2(x))\n",
    "show(p2(x))"
   ]
  },
  {
   "cell_type": "code",
   "execution_count": 0,
   "metadata": {
    "collapsed": false
   },
   "outputs": [
   ],
   "source": [
    "solve(x^3==8,x)"
   ]
  },
  {
   "cell_type": "code",
   "execution_count": 0,
   "metadata": {
    "collapsed": false
   },
   "outputs": [
   ],
   "source": [
    "t,s=var(\"t,s\")\n",
    "f(t)=sin(t)\n",
    "lf(s)=laplace(f(t),t,s)\n",
    "show(lf(s))"
   ]
  },
  {
   "cell_type": "code",
   "execution_count": 0,
   "metadata": {
    "collapsed": false
   },
   "outputs": [
   ],
   "source": [
    "islf(t)=inverse_laplace(s*lf(s),s,t)\n",
    "show(islf(t))"
   ]
  },
  {
   "cell_type": "code",
   "execution_count": 0,
   "metadata": {
    "collapsed": false
   },
   "outputs": [
   ],
   "source": [
    "(z0,v0,g)=var('z0,v0,g')\n",
    "z=z0+v0*t-1/2*g*t^2\n",
    "show(z(g=9.81,v0=0,z0=0))"
   ]
  },
  {
   "cell_type": "code",
   "execution_count": 0,
   "metadata": {
    "collapsed": false
   },
   "outputs": [
   ],
   "source": [
    "find_root(x^2-4,0,4)"
   ]
  },
  {
   "cell_type": "code",
   "execution_count": 0,
   "metadata": {
    "collapsed": false
   },
   "outputs": [
   ],
   "source": [
    "A=matrix(2,2,[1,s,3,4*t])\n",
    "show(100+A)"
   ]
  },
  {
   "cell_type": "code",
   "execution_count": 0,
   "metadata": {
    "collapsed": false
   },
   "outputs": [
   ],
   "source": [
    "limit(sin(x)/x,x=oo)"
   ]
  },
  {
   "cell_type": "code",
   "execution_count": 0,
   "metadata": {
    "collapsed": false
   },
   "outputs": [
   ],
   "source": [
    "cos5(x)=taylor(cos(x),x,0,5)\n",
    "show(cos5)\n",
    "plot(cos5(x),x,-4,4,color=\"black\")+plot(cos(x),x,-4,4)"
   ]
  },
  {
   "cell_type": "code",
   "execution_count": 0,
   "metadata": {
    "collapsed": false
   },
   "outputs": [
   ],
   "source": [
    "var('y,L')\n",
    "f(x,y,l)=x^2+y^2+L*(x+y-1) #with constraint\n",
    "minimize(f,[0.2,0.1,0.4],algorithm='simplex')\n",
    "eq1=diff(f,x)==0\n",
    "eq2=diff(f,y)==0\n",
    "eq3=diff(f,L)==0\n",
    "sol=solve([eq1,eq2,eq2],[x,y,L])"
   ]
  },
  {
   "cell_type": "code",
   "execution_count": 0,
   "metadata": {
    "collapsed": false
   },
   "outputs": [
   ],
   "source": [
    "[eq1,eq2,eq3],sol"
   ]
  },
  {
   "cell_type": "code",
   "execution_count": 0,
   "metadata": {
    "collapsed": false
   },
   "outputs": [
   ],
   "source": [
    "var('k')\n",
    "s=sum(1/k^2,k,1,oo)\n",
    "s"
   ]
  },
  {
   "cell_type": "code",
   "execution_count": 0,
   "metadata": {
    "collapsed": false
   },
   "outputs": [
   ],
   "source": [
    "y=function('y')(x)\n",
    "h=desolve(diff(y,x)==-2.0*y,y,[0,1])\n",
    "h"
   ]
  },
  {
   "cell_type": "code",
   "execution_count": 0,
   "metadata": {
    "collapsed": false
   },
   "outputs": [
   ],
   "source": [
    "eq=2*x==sin(x)\n",
    "diff(eq*x,x)"
   ]
  },
  {
   "cell_type": "code",
   "execution_count": 0,
   "metadata": {
    "collapsed": false
   },
   "outputs": [
   ],
   "source": [
    "t=var('t')\n",
    "f(t)=t*exp(t-3)\n",
    "F(s)=laplace(f,t,s)\n",
    "int_f(t)=inverse_laplace(F/s,s,t) #integral by using laplace transform\n",
    "show(int_f)"
   ]
  },
  {
   "cell_type": "code",
   "execution_count": 0,
   "metadata": {
    "collapsed": false
   },
   "outputs": [
   ],
   "source": [
    "g(x,y,z)=x^2+y^3+z^4\n",
    "H=diff(g,2)\n",
    "H"
   ]
  },
  {
   "cell_type": "code",
   "execution_count": 0,
   "metadata": {
    "collapsed": false
   },
   "outputs": [
   ],
   "source": [
    "sum(H[k,k],k,0,2)"
   ]
  },
  {
   "cell_type": "code",
   "execution_count": 0,
   "metadata": {
    "collapsed": false
   },
   "outputs": [
   ],
   "source": [
    "trace(diff(g,2))"
   ]
  },
  {
   "cell_type": "code",
   "execution_count": 0,
   "metadata": {
    "collapsed": false
   },
   "outputs": [
   ],
   "source": [
    "for i in range(1,3):\n",
    "    print(type(i),N(i/3))"
   ]
  },
  {
   "cell_type": "code",
   "execution_count": 0,
   "metadata": {
    "collapsed": false
   },
   "outputs": [
   ],
   "source": [
    "import numpy as np\n",
    "import matplotlib.pyplot as plt"
   ]
  },
  {
   "cell_type": "code",
   "execution_count": 0,
   "metadata": {
    "collapsed": false
   },
   "outputs": [
   ],
   "source": [
    "f1(x)=cos(x)\n",
    "f2(x)=cos(2*x)\n",
    "f3(x)=cos(3*x)\n",
    "plot(f1,x,0,pi)+plot(f2,x,0,pi)+plot(f3,x,0,pi)"
   ]
  },
  {
   "cell_type": "code",
   "execution_count": 0,
   "metadata": {
    "collapsed": false
   },
   "outputs": [
   ],
   "source": [
    "p1(x)=cos(arccos(x)).full_simplify()\n",
    "p2(x)=cos(2*arccos(x)).full_simplify()\n",
    "p3(x)=cos(3*arccos(x)).full_simplify()\n",
    "p4(x)=cos(4*arccos(x)).full_simplify()\n",
    "plot(p1,x,-1,1)+plot(p2,x,-1,1)+plot(p3,x,-1,1)+plot(p4,x,-1,1)"
   ]
  },
  {
   "cell_type": "code",
   "execution_count": 0,
   "metadata": {
    "collapsed": false
   },
   "outputs": [
   ],
   "source": [
    "[p1,p2,p3,p4]"
   ]
  },
  {
   "cell_type": "markdown",
   "metadata": {
    "collapsed": false
   },
   "source": [
    "Try to find zeros of $T_n(cos(t))=cos(n t)$. The cos is zero at $t=\\pi(1/2+k)/n$. Finally $x=cos(\\pi(1/2+k)/n)$."
   ]
  },
  {
   "cell_type": "code",
   "execution_count": 0,
   "metadata": {
    "collapsed": false
   },
   "outputs": [
   ],
   "source": [
    "n=3\n",
    "k=np.arange(0,n)\n",
    "x=np.cos(np.pi/n*(0.5+k))\n",
    "print(x)\n",
    "plt.plot(x,0.0*x,'+')\n",
    "plt.show()"
   ]
  },
  {
   "cell_type": "code",
   "execution_count": 0,
   "metadata": {
    "collapsed": false
   },
   "outputs": [
   ],
   "source": [
   ]
  },
  {
   "cell_type": "code",
   "execution_count": 0,
   "metadata": {
    "collapsed": false
   },
   "outputs": [
   ],
   "source": [
    "#orthogonality\n",
    "t=var('t')\n",
    "integral(p3(t)*p3(t)/sqrt(1-t^2),t,-1,1)"
   ]
  },
  {
   "cell_type": "code",
   "execution_count": 0,
   "metadata": {
    "collapsed": false
   },
   "outputs": [
   ],
   "source": [
    "p4"
   ]
  },
  {
   "cell_type": "code",
   "execution_count": 0,
   "metadata": {
    "collapsed": false
   },
   "outputs": [
   ],
   "source": [
    "x,y=var('x,y')\n",
    "f(x,y)=sin(x)*exp(y/pi)\n",
    "F=f.integrate(x)\n",
    "plot3d(f,(x,-pi,pi),(y,-pi,pi))"
   ]
  },
  {
   "cell_type": "code",
   "execution_count": 0,
   "metadata": {
    "collapsed": false
   },
   "outputs": [
   ],
   "source": [
    "a,b,c,d=var('a,b,c,d')\n",
    "A=matrix([[a,b],[c,d]])\n",
    "Ainv=A.inverse()\n",
    "C=Ainv*A\n",
    "show(C[1,1])"
   ]
  },
  {
   "cell_type": "code",
   "execution_count": 0,
   "metadata": {
    "collapsed": false
   },
   "outputs": [
   ],
   "source": [
    "C.simplify_full()"
   ]
  },
  {
   "cell_type": "code",
   "execution_count": 0,
   "metadata": {
    "collapsed": false
   },
   "outputs": [
   ],
   "source": [
    "F=matrix([[1,1],[0,1]])\n",
    "t=var('t')\n",
    "Fsol=exp(t*F)\n",
    "xsol=Fsol*vector([var('x1'),var('x2')])\n",
    "show(xsol[0])"
   ]
  },
  {
   "cell_type": "code",
   "execution_count": 0,
   "metadata": {
    "collapsed": false
   },
   "outputs": [
   ],
   "source": [
   ]
  },
  {
   "cell_type": "code",
   "execution_count": 0,
   "metadata": {
    "collapsed": false
   },
   "outputs": [
   ],
   "source": [
   ]
  }
 ],
 "metadata": {
  "kernelspec": {
   "argv": [
    "sage-9.8",
    "--python",
    "-m",
    "sage.repl.ipython_kernel",
    "--matplotlib=inline",
    "-f",
    "{connection_file}"
   ],
   "display_name": "SageMath 9.8",
   "env": {
   },
   "language": "sagemath",
   "metadata": {
    "cocalc": {
     "description": "Open-source mathematical software system",
     "priority": 10,
     "url": "https://www.sagemath.org/"
    }
   },
   "name": "sage-9.8",
   "resource_dir": "/ext/jupyter/kernels/sage-9.8"
  },
  "language_info": {
   "codemirror_mode": {
    "name": "ipython",
    "version": 2
   },
   "file_extension": ".py",
   "mimetype": "text/x-python",
   "name": "python",
   "nbconvert_exporter": "python",
   "pygments_lexer": "ipython2",
   "version": "2.7.12+"
  }
 },
 "nbformat": 4,
 "nbformat_minor": 4
}