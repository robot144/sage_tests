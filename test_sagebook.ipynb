{
 "cells": [
  {
   "cell_type": "markdown",
   "metadata": {
    "collapsed": false
   },
   "source": [
    "\n",
    "# Sagebook\n",
    "Book bout backgrounds of sage and ways to program in it."
   ]
  },
  {
   "cell_type": "code",
   "execution_count": null,
   "metadata": {
    "collapsed": false
   },
   "outputs": [],
   "source": [
    "temp1=preparse(\"a=2.5\");temp1 #doesn't evaluate the content!"
   ]
  },
  {
   "cell_type": "code",
   "execution_count": null,
   "metadata": {
    "collapsed": false
   },
   "outputs": [],
   "source": [
    "temp1=2.5\n",
    "type(temp1)\n",
    "type(N(1))"
   ]
  },
  {
   "cell_type": "code",
   "execution_count": null,
   "metadata": {
    "collapsed": false
   },
   "outputs": [],
   "source": [
    "for i in range(5): #sage is written in python, so python constructs are available\n",
    "    print(\"i=%d\"%i)"
   ]
  },
  {
   "cell_type": "code",
   "execution_count": null,
   "metadata": {
    "collapsed": false
   },
   "outputs": [],
   "source": [
    "#functions\n",
    "f(x)=2*sin(x)+2/3\n",
    "show(f(1))\n",
    "def g(x,b=2/6):\n",
    "    return 3*cos(x)+b\n",
    "show(g)\n",
    "g(1) #preparser has modified the function compared to pure pythoncapitalize"
   ]
  },
  {
   "cell_type": "code",
   "execution_count": null,
   "metadata": {
    "collapsed": false
   },
   "outputs": [],
   "source": [
    "N(g(1))\n",
    " g(N(1))"
   ]
  },
  {
   "cell_type": "code",
   "execution_count": null,
   "metadata": {
    "collapsed": false
   },
   "outputs": [],
   "source": [
    "temp2=\"f(x)=2*sin(x)+3.1415;f(1)\"\n",
    "temp3=preparse(temp2)\n",
    "#eval(temp3) #no idea how to evaluate"
   ]
  },
  {
   "cell_type": "code",
   "execution_count": null,
   "metadata": {
    "collapsed": false
   },
   "outputs": [],
   "source": [
    "class MyClass:\n",
    "    \"\"\"docu\"\"\"\n",
    "    i=123 #default info, instances get a copy\n",
    "    def __init__(self,j):\n",
    "        self._j=j\n",
    "    def f(self):\n",
    "        return self.i\n",
    "MyClass.i\n",
    "a=MyClass(23)\n",
    "b=MyClass(34)\n",
    "b.i=3\n",
    "a.i\n",
    "b.i\n",
    "MyClass.i"
   ]
  },
  {
   "cell_type": "code",
   "execution_count": null,
   "metadata": {
    "collapsed": false
   },
   "outputs": [],
   "source": [
    "#list comprehension\n",
    "s1=[0.5^i for i in range(5)];s1\n",
    "#generator\n",
    "s2=(0.5^i for i in range(5));s2\n",
    "for s in s2:\n",
    "    print(s)"
   ]
  },
  {
   "cell_type": "code",
   "execution_count": null,
   "metadata": {
    "collapsed": false
   },
   "outputs": [],
   "source": [
    "!ls"
   ]
  },
  {
   "cell_type": "code",
   "execution_count": 1,
   "metadata": {
    "collapsed": false
   },
   "outputs": [
    {
     "name": "stderr",
     "output_type": "stream",
     "text": [
      "UsageError: Line magic function `%typeset_mode` not found.\n"
     ]
    }
   ],
   "source": [
    "%typeset_mode true\n",
    "g,D=var('g,D')\n",
    "m=Matrix([[0,D],[g,0]]);m\n",
    "m.eigenvalues()"
   ]
  },
  {
   "cell_type": "code",
   "execution_count": 2,
   "metadata": {
    "collapsed": false
   },
   "outputs": [
    {
     "name": "stderr",
     "output_type": "stream",
     "text": [
      "Widget Javascript not detected.  It may not be installed or enabled properly. Reconnecting the current kernel may help.\n"
     ]
    },
    {
     "data": {
      "application/vnd.jupyter.widget-view+json": {
       "model_id": "5565e2f86d1b4279bc870c7e8ba8ffec"
      }
     },
     "metadata": {},
     "output_type": "display_data"
    }
   ],
   "source": [
    "@interact\n",
    "def add_em_up(a=1, b=[1..10] , c=(1..10)):\n",
    "   return a + b + c"
   ]
  },
  {
   "cell_type": "code",
   "execution_count": 2,
   "metadata": {
    "collapsed": false
   },
   "outputs": [
    {
     "data": {
      "text/html": [
       "<html><script type=\"math/tex; mode=display\">\\newcommand{\\Bold}[1]{\\mathbf{#1}}x^{2}</script></html>"
      ],
      "text/latex": [
       "$$\\newcommand{\\Bold}[1]{\\mathbf{#1}}x^{2}$$"
      ],
      "text/plain": [
       "x^2"
      ]
     },
     "metadata": {},
     "output_type": "display_data"
    }
   ],
   "source": [
    "x=var('x')\n",
    "show(x^2)"
   ]
  },
  {
   "cell_type": "code",
   "execution_count": null,
   "metadata": {
    "collapsed": false
   },
   "outputs": [],
   "source": [
    "%cython\n",
    "cdef extern from \"math.h\":\n",
    "   double sin(double)\n",
    "\n",
    "def cython_sum_typed_lib_loop (long n):\n",
    "   cdef long i\n",
    "   cdef double s = 0\n",
    "   for i in range(1, n+1):\n",
    "      s+=sin(i)\n",
    "   return s"
   ]
  },
  {
   "cell_type": "code",
   "execution_count": null,
   "metadata": {
    "collapsed": false
   },
   "outputs": [],
   "source": [
    "timeit('cython_sum_typed_lib_loop(10^4)')"
   ]
  },
  {
   "cell_type": "code",
   "execution_count": null,
   "metadata": {
    "collapsed": false
   },
   "outputs": [],
   "source": [
    "search_doc(\"plot\")"
   ]
  },
  {
   "cell_type": "code",
   "execution_count": null,
   "metadata": {
    "collapsed": false
   },
   "outputs": [],
   "source": [
    "plot(sin(x),x,(0,2*pi),legend_label=\"sin(x)\")"
   ]
  },
  {
   "cell_type": "code",
   "execution_count": null,
   "metadata": {
    "collapsed": false
   },
   "outputs": [],
   "source": []
  }
 ],
 "metadata": {
  "kernelspec": {
   "display_name": "SageMath 9.5",
   "language": "sage",
   "name": "sagemath"
  },
  "language_info": {
   "codemirror_mode": {
    "name": "ipython",
    "version": 3
   },
   "file_extension": ".py",
   "mimetype": "text/x-python",
   "name": "python",
   "nbconvert_exporter": "python",
   "pygments_lexer": "ipython3",
   "version": "3.11.2"
  }
 },
 "nbformat": 4,
 "nbformat_minor": 4
}
