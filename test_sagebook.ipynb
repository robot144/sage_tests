{
 "metadata": {
  "kernelspec": {
   "display_name": "SageMath",
   "language": "python",
   "name": "sagemath"
  },
  "language_info": {
   "codemirror_mode": {
    "name": "ipython",
    "version": 2
   },
   "file_extension": ".py",
   "mimetype": "text/x-python",
   "name": "python",
   "nbconvert_exporter": "python",
   "pygments_lexer": "ipython2",
   "version": "2.7.12+"
  }
 },
 "nbformat": 4,
 "nbformat_minor": 4,
 "cells": [
  {
   "metadata": {
    "collapsed": false
   },
   "cell_type": "markdown",
   "source": [
    "\n",
    "# Sagebook\n",
    "Book bout backgrounds of sage and ways to program in it."
   ]
  },
  {
   "metadata": {
    "collapsed": false
   },
   "cell_type": "code",
   "source": [
    "temp1=preparse(\"a=2.5\");temp1 #doesn't evaluate the content!"
   ]
  },
  {
   "metadata": {
    "collapsed": false
   },
   "cell_type": "code",
   "source": [
    "temp1=2.5\n",
    "type(temp1)\n",
    "type(N(1))"
   ]
  },
  {
   "metadata": {
    "collapsed": false
   },
   "cell_type": "code",
   "source": [
    "for i in range(5): #sage is written in python, so python constructs are available\n",
    "    print(\"i=%d\"%i)"
   ]
  },
  {
   "metadata": {
    "collapsed": false
   },
   "cell_type": "code",
   "source": [
    "#functions\n",
    "f(x)=2*sin(x)+2/3\n",
    "show(f(1))\n",
    "def g(x,b=2/6):\n",
    "    return 3*cos(x)+b\n",
    "show(g)\n",
    "g(1) #preparser has modified the function compared to pure pythoncapitalize"
   ]
  },
  {
   "metadata": {
    "collapsed": false
   },
   "cell_type": "code",
   "source": [
    "N(g(1))\n",
    " g(N(1))"
   ]
  },
  {
   "metadata": {
    "collapsed": false
   },
   "cell_type": "code",
   "source": [
    "temp2=\"f(x)=2*sin(x)+3.1415;f(1)\"\n",
    "temp3=preparse(temp2)\n",
    "#eval(temp3) #no idea how to evaluate"
   ]
  },
  {
   "metadata": {
    "collapsed": false
   },
   "cell_type": "code",
   "source": [
    "class MyClass:\n",
    "    \"\"\"docu\"\"\"\n",
    "    i=123 #default info, instances get a copy\n",
    "    def __init__(self,j):\n",
    "        self._j=j\n",
    "    def f(self):\n",
    "        return self.i\n",
    "MyClass.i\n",
    "a=MyClass(23)\n",
    "b=MyClass(34)\n",
    "b.i=3\n",
    "a.i\n",
    "b.i\n",
    "MyClass.i"
   ]
  },
  {
   "metadata": {
    "collapsed": false
   },
   "cell_type": "code",
   "source": [
    "#list comprehension\n",
    "s1=[0.5^i for i in range(5)];s1\n",
    "#generator\n",
    "s2=(0.5^i for i in range(5));s2\n",
    "for s in s2:\n",
    "    print(s)"
   ]
  },
  {
   "metadata": {
    "collapsed": false
   },
   "cell_type": "code",
   "source": [
    "!ls"
   ]
  },
  {
   "metadata": {
    "collapsed": false
   },
   "cell_type": "code",
   "source": [
    "%typeset_mode true\n",
    "g,D=var('g,D')\n",
    "m=Matrix([[0,D],[g,0]]);m\n",
    "m.eigenvalues()"
   ]
  },
  {
   "metadata": {
    "collapsed": false
   },
   "cell_type": "code",
   "source": [
    "@interact\n",
    "def add_em_up(a=1, b=[1..10] , c=(1..10)):\n",
    "   return a + b + c"
   ]
  },
  {
   "metadata": {
    "collapsed": false
   },
   "cell_type": "code",
   "source": [
    "x=var('x')\n",
    "show(x^2)"
   ]
  },
  {
   "metadata": {
    "collapsed": false
   },
   "cell_type": "code",
   "source": [
    "%cython\n",
    "cdef extern from \"math.h\":\n",
    "   double sin(double)\n",
    "\n",
    "def cython_sum_typed_lib_loop (long n):\n",
    "   cdef long i\n",
    "   cdef double s = 0\n",
    "   for i in range(1, n+1):\n",
    "      s+=sin(i)\n",
    "   return s"
   ]
  },
  {
   "metadata": {
    "collapsed": false
   },
   "cell_type": "code",
   "source": [
    "timeit('cython_sum_typed_lib_loop(10^4)')"
   ]
  },
  {
   "metadata": {
    "collapsed": false
   },
   "cell_type": "code",
   "source": [
    "search_doc(\"plot\")"
   ]
  },
  {
   "metadata": {
    "collapsed": false
   },
   "cell_type": "code",
   "source": [
    "plot(sin(x),x,(0,2*pi),legend_label=\"sin(x)\")"
   ]
  },
  {
   "metadata": {
    "collapsed": false
   },
   "cell_type": "code",
   "source": [
    ""
   ]
  }
 ]
}